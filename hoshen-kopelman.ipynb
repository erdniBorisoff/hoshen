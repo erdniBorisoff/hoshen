{
 "cells": [
  {
   "cell_type": "code",
   "execution_count": 1,
   "metadata": {},
   "outputs": [
    {
     "name": "stderr",
     "output_type": "stream",
     "text": [
      "/tmp/ipykernel_10023/1163079036.py:89: DeprecationWarning: Please use `sum` from the `scipy.ndimage` namespace, the `scipy.ndimage.measurements` namespace is deprecated.\n",
      "  area = measurements.sum(R, L, index=arange(L.max() + 1))\n"
     ]
    },
    {
     "data": {
      "image/png": "[encoded data removed]",
      "text/plain": [
       "<Figure size 640x480 with 2 Axes>"
      ]
     },
     "metadata": {},
     "output_type": "display_data"
    },
    {
     "data": {
      "image/png": "[encoded data removed]",
      "text/plain": [
       "<Figure size 640x480 with 2 Axes>"
      ]
     },
     "metadata": {},
     "output_type": "display_data"
    }
   ],
   "source": [
    "import numpy as np\n",
    "import matplotlib.pyplot as plt\n",
    "from pylab import *\n",
    "from scipy.ndimage import measurements\n",
    "matplotlib.style.use(\"default\")\n",
    "def R_matrix(L, p): #Создание матрицы из 0 и 1\n",
    " \treturn (np.random.choice([1, 0], p=(p, 1-p), size=(L, L))).astype(int64)\n",
    "\n",
    "\n",
    "\n",
    "def Find(L, a, b, c, d, Lw):\n",
    "    x = L[a, b]\n",
    "    y = L[c, d]\n",
    "    find_rc = Find_prim(L, x, Lw)\n",
    "    row = find_rc[0]\n",
    "    col = find_rc[1]\n",
    "\n",
    "    for i in range(0, len(col)):\n",
    "        aa = row[i]\n",
    "        bb = col[i]\n",
    "        L[aa, bb] = y\n",
    "    return L\n",
    "\n",
    "\n",
    "def Find_prim(a, b, Lw):\n",
    "    size = a.shape\n",
    "    row = np.array([], dtype=np.int64)\n",
    "    col = np.array([], dtype=np.int64)\n",
    "    for i in range(0, Lw):\n",
    "        for j in range(0, Lw):\n",
    "            if a[i, j] == b:\n",
    "                row = np.append(row, i)\n",
    "                col = np.append(col, j)\n",
    "    return [[row], [col]]\n",
    "\n",
    "        \n",
    "def Label(L, R):\n",
    "    iD = 1\n",
    "    label = np.zeros((L, L))\n",
    "    for i in range(0, L):\n",
    "        for j in range(0, L):\n",
    "            if R[i, j]:\n",
    "                l_a = Above_left(i, j, R)\n",
    "                above = l_a[0]\n",
    "                left = l_a[1]\n",
    "\n",
    "                if left == 0 and above == 0:\n",
    "                    label[i, j] = iD\n",
    "                    iD = iD + 1\n",
    "                elif left == 1 and above == 0:\n",
    "                    label[i, j] = label[i, j - 1]\n",
    "                elif left == 0 and above == 1:\n",
    "                    label[i, j] = label[i - 1, j]\n",
    "                elif above == 2 and left == 2:\n",
    "                    label[i, j] = label[i - 1, j - 1]\n",
    "                # elif above == 3 and left == 3:\n",
    "                #     label[i, j] = label[i + 1, j - 1]\n",
    "                else:\n",
    "                    Lab_prim = Find(label, i, j - 1, i - 1, j, L)\n",
    "                    label = Lab_prim\n",
    "                    label[i, j] = label[i - 1, j]\n",
    "\n",
    "    return label\n",
    "\n",
    "\n",
    "def Above_left(i, j, R):\n",
    "    if i > 0 and j > 0:\n",
    "        if R[i, j] == R[i - 1, j - 1]:\n",
    "            above = 2\n",
    "            left = 2\n",
    "        # elif R[i, j] == R[i + 1, j - 1]:\n",
    "        #     above = 3\n",
    "        #     left = 3\n",
    "        else:\n",
    "            above = R[i - 1, j]\n",
    "            left = R[i, j - 1]\n",
    "    elif i > 0 and j == 0:\n",
    "        above = R[i - 1, j]\n",
    "        left = 0\n",
    "    elif i == 0 and j > 0:\n",
    "        above = 0\n",
    "        left = R[i, j - 1]\n",
    "    else:\n",
    "        above = 0\n",
    "        left = 0\n",
    "    return (above, left)\n",
    "\n",
    "def CalculateAreas(R, L):\n",
    "    area = measurements.sum(R, L, index=arange(L.max() + 1))\n",
    "    # print(area)\n",
    "    areaImg = area[L]\n",
    "    return areaImg\n",
    "\n",
    "\n",
    "Lw = int(input())\n",
    "p = 0.52\n",
    "R = R_matrix(Lw, p)\n",
    "L = Label(Lw, R)\n",
    "Int = L.astype(int)\n",
    "S = CalculateAreas(R, Int) # здесь хранится массив площади\n",
    "# print(Int)\n",
    "plt.imshow(Int)\n",
    "plt.colorbar()\n",
    "plt.show()\n",
    "# print(S)\n",
    "plt.imshow(S)\n",
    "plt.colorbar()\n",
    "plt.show()\n"
   ]
  },
  {
   "cell_type": "code",
   "execution_count": null,
   "metadata": {},
   "outputs": [],
   "source": []
  }
 ],
 "metadata": {
  "interpreter": {
   "hash": "916dbcbb3f70747c44a77c7bcd40155683ae19c65e1c03b4aa3499c5328201f1"
  },
  "kernelspec": {
   "display_name": "Python 3.8.10 64-bit",
   "language": "python",
   "name": "python3"
  },
  "language_info": {
   "codemirror_mode": {
    "name": "ipython",
    "version": 3
   },
   "file_extension": ".py",
   "mimetype": "text/x-python",
   "name": "python",
   "nbconvert_exporter": "python",
   "pygments_lexer": "ipython3",
   "version": "3.8.10"
  },
  "orig_nbformat": 4
 },
 "nbformat": 4,
 "nbformat_minor": 2
}
